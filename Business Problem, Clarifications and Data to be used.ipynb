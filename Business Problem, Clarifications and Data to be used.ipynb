{
 "cells": [
  {
   "cell_type": "markdown",
   "metadata": {},
   "source": [
    "First of all, i want to state that i was very self driven to do a very interested study involving Santiago de Chile, that consisted in setting up some background on a discusion that is taking place in Chile. The discusion is about how far is chile from beeing a developed country. \n",
    "Using geospatial data, it would be possible to understand the geographic distribution of fundamental institutions such as education, health related, banks and financial institutios among others. Then, one could compare it with a developed and comparable city such as New York, which has almost the same poblational density (men per km2). \n",
    "But the API shows some inconsistent outputs that really throw that out. For example, moving the radio from 900 to 950 and changing from 1 to 29 the results related to hospital. Also, the 29 constrint as maximun results displayed really limits any study. It would be awesome if that could be changed. \n",
    "\n",
    "Due to this, i would make a terribly simple study related to the fact that some investor is willing to set up a restaurant of pizza in New York or Toronto, due to the fact that they seem very comparable geographically and economomically (both near the see, beeing from developed countries and with a lot of turist and moving going on). So, i will try to discover which of them is a better answer, considering the terrible constraints involved in the tools needed to overcome the problem. So, i will choose a random point near the see, and study the ammount of pizza restaurants via keyword from Foursquare API, and other comparable restaurants (wont use the keyword restaurant that will surpass the limit). \n",
    "\n",
    "Of course this study will be performed using python, pandas dataframe to manipulate the data, and folium to present the results. Then, i will attempt to cluster the distributed data points -as related restaurantes- seeing which areas are most attractive to invest in, mainly cause they are less competitive spots. Mantaining ceteris paribus over the rest of factors, the city that exhibit a less congested area will be the chosen one. A possibility of the Machine Learning algotitms to be used is to try results with the density based algorithm. But that will depende on what results the study throw throughout the process. \n"
   ]
  }
 ],
 "metadata": {
  "kernelspec": {
   "display_name": "Python 3",
   "language": "python",
   "name": "python3"
  },
  "language_info": {
   "codemirror_mode": {
    "name": "ipython",
    "version": 3
   },
   "file_extension": ".py",
   "mimetype": "text/x-python",
   "name": "python",
   "nbconvert_exporter": "python",
   "pygments_lexer": "ipython3",
   "version": "3.7.1"
  }
 },
 "nbformat": 4,
 "nbformat_minor": 2
}
